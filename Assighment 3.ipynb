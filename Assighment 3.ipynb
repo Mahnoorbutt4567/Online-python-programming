{
 "cells": [
  {
   "cell_type": "code",
   "execution_count": 1,
   "id": "7e5cfe1e",
   "metadata": {},
   "outputs": [
    {
     "name": "stdout",
     "output_type": "stream",
     "text": [
      "Twinkle, twinkle, little star, \n",
      "\tHow I wonder what you are! \n",
      "\t\tUp above the world so high, \n",
      "\t\tLike a diamond in the sky. \n",
      "Twinkle, twinkle, little star, \n",
      "\tHow I wonder what you are!\n"
     ]
    }
   ],
   "source": [
    "Question No # 1\n",
    "# Write a Python program to print the following string in a specific format (see the\n",
    "output).\n",
    "\n",
    "#Twinkle, twinkle, little star,\n",
    "#How I wonder what you are!\n",
    "#Up above the world so high,\n",
    "#Like a diamond in the sky.\n",
    "#Twinkle, twinkle, little star,\n",
    "#How I wonder what you are\n",
    "\n",
    "print(\"Twinkle, twinkle, little star, \\n\\tHow I wonder what you are! \\n\\t\\tUp above the world so high, \\n\\t\\tLike a diamond in the sky. \\nTwinkle, twinkle, little star, \\n\\tHow I wonder what you are!\");\n"
   ]
  },
  {
   "cell_type": "code",
   "execution_count": 2,
   "id": "567a5e78",
   "metadata": {},
   "outputs": [
    {
     "name": "stdout",
     "output_type": "stream",
     "text": [
      "Python version\n",
      "3.8.3 (default, Jun 15 2020, 02:19:10) \n",
      "[GCC 9.3.0]\n",
      "Version info.\n",
      "sys.version_info(major=3, minor=8, micro=3, releaselevel='final', serial=0)\n"
     ]
    }
   ],
   "source": [
    "Question No # 2\n",
    "# Write a Python program to get the Python version you are using.\n",
    "\n",
    "import sys\n",
    "print(\"Python version\")\n",
    "print (sys.version)\n",
    "print(\"Version info.\")\n",
    "print (sys.version_info)\n"
   ]
  },
  {
   "cell_type": "code",
   "execution_count": 3,
   "id": "ae231757",
   "metadata": {},
   "outputs": [
    {
     "name": "stdout",
     "output_type": "stream",
     "text": [
      "Current date and time : \n",
      "2021-10-23 19:52:30\n"
     ]
    }
   ],
   "source": [
    "Question no # 3\n",
    "#  Write a Python program to display the current date and time.\n",
    "\n",
    "import datetime\n",
    "now = datetime.datetime.now()\n",
    "print (\"Current date and time : \")\n",
    "print (now.strftime(\"%Y-%m-%d %H:%M:%S\"))\n"
   ]
  },
  {
   "cell_type": "code",
   "execution_count": 4,
   "id": "31d9c02f",
   "metadata": {},
   "outputs": [
    {
     "name": "stdout",
     "output_type": "stream",
     "text": [
      "Input the radius of the circle : 1.1\n",
      "The area of the circle with radius 1.1 is: 3.8013271108436504\n"
     ]
    }
   ],
   "source": [
    "Question No #4 \n",
    "#  Write a Python program which accepts the radius of a circle from the user and compute\n",
    "the area.\n",
    "\n",
    "from math import pi\n",
    "r = float(input (\"Input the radius of the circle : \"))\n",
    "print (\"The area of the circle with radius \" + str(r) + \" is: \" + str(pi * r**2))\n"
   ]
  },
  {
   "cell_type": "code",
   "execution_count": 5,
   "id": "967f1c43",
   "metadata": {},
   "outputs": [
    {
     "name": "stdout",
     "output_type": "stream",
     "text": [
      " butt  Mahnoor \n"
     ]
    }
   ],
   "source": [
    "Question no # 5\n",
    "# Write a Python program which accepts the user's first and last name and print them in\n",
    "reverse order with a space between them.\n",
    "\n",
    "fname = (\" Mahnoor \")\n",
    "lname = (\" butt \")\n",
    "print (lname + fname)"
   ]
  },
  {
   "cell_type": "code",
   "execution_count": 6,
   "id": "c8620dbe",
   "metadata": {},
   "outputs": [
    {
     "name": "stdout",
     "output_type": "stream",
     "text": [
      "enter first number 10\n",
      "enter second number 10\n",
      "20\n"
     ]
    }
   ],
   "source": [
    "Question No :6\n",
    "#  Write a python program which takes two inputs from user and print them addition.\n",
    "\n",
    "a = int(input(\"enter first number \"));\n",
    "b = int(input(\"enter second number \"));\n",
    "c = a + b;\n",
    "print(c);"
   ]
  },
  {
   "cell_type": "code",
   "execution_count": 7,
   "id": "0eee5557",
   "metadata": {},
   "outputs": [
    {
     "name": "stdout",
     "output_type": "stream",
     "text": [
      "Enter a number: 20\n",
      "20 is Even\n"
     ]
    }
   ],
   "source": [
    "Question No # 8\n",
    "# Write a program which take input from user and identify that the given number is even\n",
    "or odd?\n",
    "\n",
    "num = int(input(\"Enter a number: \"));\n",
    "if (num % 2) == 0:\n",
    "   print(\"{0} is Even\".format(num));\n",
    "else:\n",
    "   print(\"{0} is Odd\".format(num));"
   ]
  },
  {
   "cell_type": "code",
   "execution_count": 8,
   "id": "5d66e42d",
   "metadata": {},
   "outputs": [
    {
     "name": "stdout",
     "output_type": "stream",
     "text": [
      "Length of the input string:\n",
      "5\n"
     ]
    }
   ],
   "source": [
    "Question No # 9\n",
    "# Write a program which print the length of the list?\n",
    "\n",
    "from operator import length_hint \n",
    "inp_lst = ['Python','Java','Kotlin','Machine Learning','Keras']\n",
    "print(\"Length of the input string:\")\n",
    "size = length_hint(inp_lst)\n",
    "print(size)"
   ]
  },
  {
   "cell_type": "code",
   "execution_count": 9,
   "id": "db4457e6",
   "metadata": {},
   "outputs": [
    {
     "name": "stdout",
     "output_type": "stream",
     "text": [
      "20\n"
     ]
    }
   ],
   "source": [
    "Question No # 10\n",
    "# Write a Python program to sum all the numeric items in a list?\n",
    "\n",
    "def sum(numbers):\n",
    "    total = 0\n",
    "    for x in numbers:\n",
    "        total += x\n",
    "    return total\n",
    "print(sum((8, 2, 3, 0, 7)))\n"
   ]
  },
  {
   "cell_type": "code",
   "execution_count": 10,
   "id": "d4d8cfb4",
   "metadata": {},
   "outputs": [
    {
     "name": "stdout",
     "output_type": "stream",
     "text": [
      "Largest element is  99\n"
     ]
    }
   ],
   "source": [
    "Question No # 11\n",
    "# Write a Python program to get the largest number from a numeric list.\n",
    "\n",
    "# list of numbers \n",
    "\n",
    "list1 = [10, 20, 4, 45, 99] \n",
    "\n",
    "  \n",
    "\n",
    "  \n",
    "# printing the maximum element \n",
    "\n",
    "print(\"Largest element is \", max(list1)) "
   ]
  },
  {
   "cell_type": "code",
   "execution_count": 11,
   "id": "0134d36e",
   "metadata": {},
   "outputs": [
    {
     "name": "stdout",
     "output_type": "stream",
     "text": [
      "1\n",
      "1\n",
      "2\n",
      "3\n"
     ]
    }
   ],
   "source": [
    "Question No # 12\n",
    "# \n",
    "a = [1, 1, 2, 3, 5, 8, 13, 21, 34, 55, 89]\n",
    "\n",
    "for i in a:\n",
    "\n",
    "    if i < 5:\n",
    "\n",
    "        print(i)"
   ]
  },
  {
   "cell_type": "code",
   "execution_count": 4,
   "id": "9d922025",
   "metadata": {},
   "outputs": [
    {
     "name": "stdout",
     "output_type": "stream",
     "text": [
      "Enter marks of the first subject 81\n",
      "Enter marks of the second subject 72\n",
      "Enter marks of the third subject 94\n",
      "Enter marks of the fourth subject 86\n",
      "Enter marks of the fifth subject 80\n",
      "grade=A-One\n"
     ]
    }
   ],
   "source": [
    "Question No # 7\n",
    "\n",
    "sub1=int(input(\"Enter marks of the first subject \"));\n",
    "sub2=int(input(\"Enter marks of the second subject \"));\n",
    "sub3=int(input(\"Enter marks of the third subject \"));\n",
    "sub4=int(input(\"Enter marks of the fourth subject \"));\n",
    "sub5=int(input(\"Enter marks of the fifth subject \"));\n",
    "obtained_marks= sub1+sub2+sub3+sub4+sub4+sub5\n",
    "total=500;\n",
    "percentage =(obtained_marks/total)*100\n",
    "if percentage <= 100 and percentage >= 80:\n",
    "   print(\"grade=A-One\")\n",
    "elif percentage < 80 and percentage >=70:\n",
    "       print(\"grade=A\")\n",
    "elif percentage < 70 and percentage >=60:\n",
    "      print(\"grade=B\")\n",
    "elif percentage < 60 and percentage >= 50:\n",
    "      print(\"grade=C\")\n",
    "elif percentage < 50 and percentage >=40:\n",
    "      print(\"grade=D\")\n",
    "elif percentage < 40 and percentage >=30:\n",
    "      print(\"grade=E\")\n",
    "        "
   ]
  },
  {
   "cell_type": "code",
   "execution_count": null,
   "id": "4efa8ad0",
   "metadata": {},
   "outputs": [],
   "source": []
  }
 ],
 "metadata": {
  "kernelspec": {
   "display_name": "Python 3 (ipykernel)",
   "language": "python",
   "name": "python3"
  },
  "language_info": {
   "codemirror_mode": {
    "name": "ipython",
    "version": 3
   },
   "file_extension": ".py",
   "mimetype": "text/x-python",
   "name": "python",
   "nbconvert_exporter": "python",
   "pygments_lexer": "ipython3",
   "version": "3.8.3"
  }
 },
 "nbformat": 4,
 "nbformat_minor": 5
}
