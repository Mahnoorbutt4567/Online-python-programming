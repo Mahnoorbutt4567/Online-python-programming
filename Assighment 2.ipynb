{
 "cells": [
  {
   "cell_type": "code",
   "execution_count": 1,
   "id": "a0d1f84f",
   "metadata": {},
   "outputs": [
    {
     "name": "stdout",
     "output_type": "stream",
     "text": [
      "grade=A-One\n"
     ]
    }
   ],
   "source": [
    "islamiat=90;\n",
    "english=83;\n",
    "math=93;\n",
    "obtained_marks = islamiat+english+math;\n",
    "total=300;\n",
    "percentage =(obtained_marks/total)*100\n",
    "if percentage <= 100 and percentage >= 80:\n",
    "   print(\"grade=A-One\")\n",
    "elif percentage < 80 and percrntage >=70:\n",
    "       print(\"grade=A\")\n",
    "elif percentage < 70 and percentage >=60:\n",
    "      print(\"grade=B\")\n",
    "elif percenage < 60 and percentage >= 50:\n",
    "      print(\"grade=C\")\n",
    "elif percentage < 50 and percentage >=40:\n",
    "      print(\"grade=D\")\n",
    "elif percentage < 40 and percentage >=30:\n",
    "      print(\"grade=E\")"
   ]
  },
  {
   "cell_type": "code",
   "execution_count": null,
   "id": "31caa850",
   "metadata": {},
   "outputs": [],
   "source": []
  }
 ],
 "metadata": {
  "kernelspec": {
   "display_name": "Python 3 (ipykernel)",
   "language": "python",
   "name": "python3"
  },
  "language_info": {
   "codemirror_mode": {
    "name": "ipython",
    "version": 3
   },
   "file_extension": ".py",
   "mimetype": "text/x-python",
   "name": "python",
   "nbconvert_exporter": "python",
   "pygments_lexer": "ipython3",
   "version": "3.8.3"
  }
 },
 "nbformat": 4,
 "nbformat_minor": 5
}
